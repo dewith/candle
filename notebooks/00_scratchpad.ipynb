{
 "cells": [
  {
   "cell_type": "markdown",
   "metadata": {},
   "source": [
    "# Scratchpad 📝\n",
    "A notebook for testing ideas and code snippets."
   ]
  },
  {
   "cell_type": "markdown",
   "metadata": {},
   "source": [
    "#### Imports 📚"
   ]
  },
  {
   "cell_type": "code",
   "execution_count": null,
   "metadata": {},
   "outputs": [],
   "source": [
    "%load_ext autoreload\n",
    "%autoreload 2"
   ]
  },
  {
   "cell_type": "code",
   "execution_count": null,
   "metadata": {},
   "outputs": [],
   "source": [
    "import os\n",
    "\n",
    "while True:\n",
    "    if os.path.isfile(\"pyproject.toml\"):\n",
    "        break\n",
    "    os.chdir(\"..\")\n",
    "os.chdir(\"src\")\n",
    "\n",
    "print(\"Current working directory:\", os.getcwd())"
   ]
  },
  {
   "cell_type": "code",
   "execution_count": null,
   "metadata": {},
   "outputs": [],
   "source": [
    "# Libraries\n",
    "import math\n",
    "\n",
    "import torch\n",
    "import numpy as np\n",
    "import numpy.typing as npt\n",
    "\n",
    "# Modules\n",
    "# import smoltorch as smol"
   ]
  },
  {
   "cell_type": "markdown",
   "metadata": {},
   "source": [
    "## Playground 🪅 "
   ]
  },
  {
   "cell_type": "code",
   "execution_count": null,
   "metadata": {},
   "outputs": [],
   "source": [
    "shape = (3, 4, 5)\n",
    "size = math.prod(shape)\n",
    "data = list(range(size))\n",
    "\n",
    "array = np.array(data).reshape(shape)\n",
    "tor_tensor = torch.tensor(array)\n",
    "# smol_tensor = smol.tensor(data, shape)"
   ]
  },
  {
   "cell_type": "code",
   "execution_count": null,
   "metadata": {},
   "outputs": [],
   "source": [
    "\"\"\"Script containing operations functions for tensors.\"\"\"\n",
    "\n",
    "from collections.abc import Iterable\n",
    "from typing import List\n",
    "\n",
    "\n",
    "def prod(iterable: Iterable[float], /, *, start: int = 1) -> float:\n",
    "    \"\"\"Return the product of all elements in the iterable.\"\"\"\n",
    "    product = start\n",
    "    for item in iterable:\n",
    "        product *= item\n",
    "    return product\n",
    "\n",
    "\n",
    "def add(iterable: Iterable[float], iterable2: Iterable[float], /) -> List[float]:\n",
    "    \"\"\"Return the sum of the elements in the two iterables.\"\"\"\n",
    "    assert len(iterable) == len(iterable2), \"Iterables must have the same length\"\n",
    "    return [a + b for a, b in zip(iterable, iterable2)]\n",
    "\n",
    "\n",
    "def sub(iterable: Iterable[float], iterable2: Iterable[float], /) -> List[float]:\n",
    "    \"\"\"Return the difference of the elements in the two iterables.\"\"\"\n",
    "    assert len(iterable) == len(iterable2), \"Iterables must have the same length\"\n",
    "    return [a - b for a, b in zip(iterable, iterable2)]\n",
    "\n",
    "\n",
    "def mul(iterable: Iterable[float], iterable2: Iterable[float], /) -> List[float]:\n",
    "    \"\"\"Return the product of the elements in the two iterables.\"\"\"\n",
    "    assert len(iterable) == len(iterable2), \"Iterables must have the same length\"\n",
    "    return [a * b for a, b in zip(iterable, iterable2)]\n",
    "\n",
    "\n",
    "def div(iterable: Iterable[float], iterable2: Iterable[float], /) -> List[float]:\n",
    "    \"\"\"Return the quotient of the elements in the two iterables.\"\"\"\n",
    "    assert len(iterable) == len(iterable2), \"Iterables must have the same length\"\n",
    "    return [a / b for a, b in zip(iterable, iterable2)]\n",
    "\n",
    "\n",
    "def shape(iterable: list[float], /) -> tuple[int]:\n",
    "    \"\"\"Return the shape of a list. Supports nested lists.\"\"\"\n",
    "    if not iterable:\n",
    "        return ()\n",
    "    \n",
    "    shape = (len(iterable),)\n",
    "    while isinstance(iterable[0], list):\n",
    "        iterable = iterable[0]\n",
    "        shape = shape + (len(iterable),)\n",
    "    return shape"
   ]
  }
 ],
 "metadata": {
  "kernelspec": {
   "display_name": ".env",
   "language": "python",
   "name": "python3"
  },
  "language_info": {
   "codemirror_mode": {
    "name": "ipython",
    "version": 3
   },
   "file_extension": ".py",
   "mimetype": "text/x-python",
   "name": "python",
   "nbconvert_exporter": "python",
   "pygments_lexer": "ipython3",
   "version": "3.11.5"
  }
 },
 "nbformat": 4,
 "nbformat_minor": 2
}
