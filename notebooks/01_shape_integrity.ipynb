{
 "cells": [
  {
   "cell_type": "markdown",
   "metadata": {},
   "source": [
    "# Tensor Shape Assert\n",
    "\n",
    "> This is a simple notebook to illustrate how the recursive function asserts the shape of a tensor."
   ]
  },
  {
   "cell_type": "markdown",
   "metadata": {},
   "source": [
    "## The (very verbose) recursive function"
   ]
  },
  {
   "cell_type": "markdown",
   "metadata": {},
   "source": [
    "This function recursively checks the integrity of an n-dimensional tensor. Here's how it works:\n",
    "\n",
    "1. If the input is not a list, we've reached a scalar value, so we return True and an empty shape list.\n",
    "1. If the input is an empty list, we consider it valid and return True with a shape of [0].\n",
    "1. We check the integrity of the first element and use its shape as the expected shape for all other elements at this level.\n",
    "1. We iterate through the remaining elements, checking their integrity and shape against the first element.\n",
    "1. If all elements are valid and have the same shape, we return True and the current level's shape (current length + subshape).\n",
    "1. If any inconsistency is found, we return False and an empty shape list.\n",
    "\n",
    "The function returns a tuple: (is_valid, shape). If the tensor is valid, is_valid will be True, and shape will be a list representing the dimensions of the tensor. If it's invalid, is_valid will be False, and shape will be an empty list."
   ]
  },
  {
   "cell_type": "code",
   "execution_count": null,
   "metadata": {},
   "outputs": [],
   "source": [
    "def check_tensor_integrity(tensor, depth=0):\n",
    "    indent = \"| \"+ \"\\t|\" * depth + \" \"\n",
    "    print(indent + \"▶\")\n",
    "    print(f\"{indent}Depth {depth}: Checking {tensor}\")\n",
    "    \n",
    "    if not isinstance(tensor, list):\n",
    "        print(f\"{indent}Reached scalar value: {tensor}\")\n",
    "        return True, []  # Base case: we've reached a scalar value\n",
    "    \n",
    "    if not tensor:\n",
    "        print(f\"{indent}Empty list at depth {depth}\")\n",
    "        return True, [0]  # Empty list is considered valid\n",
    "    \n",
    "    print(f\"{indent}Checking first element: {tensor[0]}\")\n",
    "    first_elem_valid, first_elem_shape = check_tensor_integrity(tensor[0], depth + 1)\n",
    "    if not first_elem_valid:\n",
    "        print(f\"{indent}First element is invalid\")\n",
    "        return False, []\n",
    "    \n",
    "    expected_length = len(tensor)\n",
    "    print(f\"{indent}Expected length at this level: {expected_length}\")\n",
    "    current_level_shape = [expected_length] + first_elem_shape\n",
    "    print(f\"{indent}Expected shape at this level: {current_level_shape}\")\n",
    "    \n",
    "    for i, elem in enumerate(tensor[1:], 1):\n",
    "        print(f\"{indent}Checking element {i}: {elem}\")\n",
    "        elem_valid, elem_shape = check_tensor_integrity(elem, depth + 1)\n",
    "        if not elem_valid or elem_shape != first_elem_shape:\n",
    "            print(f\"{indent}Element {i} is invalid or has inconsistent shape\")\n",
    "            return False, []\n",
    "    \n",
    "    print(f\"{indent}All elements at depth {depth} are valid\")\n",
    "    print(f\"{indent}Final shape at depth {depth}: {current_level_shape}\")\n",
    "    return True, current_level_shape"
   ]
  },
  {
   "cell_type": "code",
   "execution_count": null,
   "metadata": {},
   "outputs": [],
   "source": [
    "# A helper function to get the shape of a nested list\n",
    "def shape(iterable: list[float], /) -> tuple[int]:\n",
    "    if not iterable:\n",
    "        return ()\n",
    "    shape = (len(iterable),)\n",
    "    while isinstance(iterable[0], list):\n",
    "        iterable = iterable[0]\n",
    "        shape = shape + (len(iterable),)\n",
    "    return shape"
   ]
  },
  {
   "cell_type": "markdown",
   "metadata": {},
   "source": [
    "### Examples"
   ]
  },
  {
   "cell_type": "markdown",
   "metadata": {},
   "source": [
    "#### Good Tensors"
   ]
  },
  {
   "cell_type": "code",
   "execution_count": null,
   "metadata": {},
   "outputs": [],
   "source": [
    "tensor_1 = [[[0, 1, 2], [3, 4, 5]]]\n",
    "\n",
    "print(\"Checking tensor of shape:\", shape(tensor_1))\n",
    "result = check_tensor_integrity(tensor_1)\n",
    "print(f\"Final result: {result}\")"
   ]
  },
  {
   "cell_type": "code",
   "execution_count": null,
   "metadata": {},
   "outputs": [],
   "source": [
    "tensor_2 = [[[1, 2], [3, 4]], [[5, 6], [7, 8]]]\n",
    "\n",
    "print(\"Checking tensor of shape:\", shape(tensor_2))\n",
    "result = check_tensor_integrity(tensor_2)\n",
    "print(f\"Final result: {result}\")"
   ]
  },
  {
   "cell_type": "markdown",
   "metadata": {},
   "source": [
    "A long one is ahead!"
   ]
  },
  {
   "cell_type": "code",
   "execution_count": null,
   "metadata": {},
   "outputs": [],
   "source": [
    "tensor_3 = [\n",
    " [[ 0,  1,  2,  3,  4],\n",
    "  [ 5,  6,  7,  8,  9],\n",
    "  [10, 11, 12, 13, 14],\n",
    "  [15, 16, 17, 18, 19]],\n",
    " [[20, 21, 22, 23, 24],\n",
    "  [25, 26, 27, 28, 29],\n",
    "  [30, 31, 32, 33, 34],\n",
    "  [35, 36, 37, 38, 39]],\n",
    " [[40, 41, 42, 43, 44],\n",
    "  [45, 46, 47, 48, 49],\n",
    "  [50, 51, 52, 53, 54],\n",
    "  [55, 56, 57, 58, 59]]\n",
    "]\n",
    "\n",
    "print(\"Checking tensor of shape:\", shape(tensor_3))\n",
    "result = check_tensor_integrity(tensor_3)\n",
    "print(f\"Final result: {result}\")"
   ]
  },
  {
   "cell_type": "markdown",
   "metadata": {},
   "source": [
    "#### Bad Tensors"
   ]
  },
  {
   "cell_type": "code",
   "execution_count": null,
   "metadata": {},
   "outputs": [],
   "source": [
    "tensor_4 = [\n",
    "  [[1, 2], \n",
    "   [3, 4]], \n",
    "  [[5, 6, 7], \n",
    "   [8, 9, 0]]\n",
    "]\n",
    "\n",
    "print(\"Checking tensor of shape:\", shape(tensor_4))\n",
    "result = check_tensor_integrity(tensor_4)\n",
    "print(f\"Final result: {result}\")"
   ]
  },
  {
   "cell_type": "markdown",
   "metadata": {},
   "source": [
    "## Final function"
   ]
  },
  {
   "cell_type": "markdown",
   "metadata": {},
   "source": [
    "Now we can make the final function cleaner and with exceptions."
   ]
  },
  {
   "cell_type": "code",
   "execution_count": null,
   "metadata": {},
   "outputs": [],
   "source": [
    "def check_tensor_integrity(tensor):\n",
    "    # Base case: we've reached a scalar value\n",
    "    if not isinstance(tensor, list):\n",
    "        return []\n",
    "    \n",
    "    # Empty list is considered valid\n",
    "    if not tensor:\n",
    "        return [0]\n",
    "    \n",
    "    # Check the first element to get the expected shape\n",
    "    expected_shape = check_tensor_integrity(tensor[0])\n",
    "    current_shape = [len(tensor)] + expected_shape\n",
    "\n",
    "    # Validate the rest of the elements\n",
    "    for elem in tensor[1:]:\n",
    "        elem_shape = check_tensor_integrity(elem)\n",
    "        if elem_shape != expected_shape:\n",
    "            raise ValueError((\n",
    "                \"The tensor has an inhomogeneous shape after {dims} dimensions. \"\n",
    "                \"The detected shape was {shape} + inhomogeneous part.\"\n",
    "            ).format(\n",
    "                dims=len(current_shape), \n",
    "                shape=tuple(current_shape[:len(current_shape)])\n",
    "            ))\n",
    "    \n",
    "    return current_shape"
   ]
  },
  {
   "cell_type": "markdown",
   "metadata": {},
   "source": [
    "One example with a valid 3D tensor"
   ]
  },
  {
   "cell_type": "code",
   "execution_count": null,
   "metadata": {},
   "outputs": [],
   "source": [
    "# Example usage\n",
    "tensor_1 = [[[1, 2], [3, 4]], [[5, 6], [7, 8]]]  # Valid 3D tensor\n",
    "\n",
    "print(f\"Checking Tensor: {tensor_1}\")\n",
    "result_1 = check_tensor_integrity(tensor_1)\n",
    "print(f\"Tensor shape: {result_1}\")"
   ]
  },
  {
   "cell_type": "markdown",
   "metadata": {},
   "source": [
    "And one example with an invalid 3D tensor (this will raise an exception)"
   ]
  },
  {
   "cell_type": "code",
   "execution_count": null,
   "metadata": {},
   "outputs": [],
   "source": [
    "tensor_2 = [[[1, 2], [3, 4]], [[5, 6], [7, 8, 9]]]\n",
    "#                                       ↑ Inhomogeneous part\n",
    "\n",
    "try:\n",
    "    print(f\"Checking Tensor: {tensor_2}\")\n",
    "    result_2 = check_tensor_integrity(tensor_2)\n",
    "    print(f\"Tensor shape: {result_2}\")\n",
    "except ValueError as e:\n",
    "    print(f\"Error: {e}\")"
   ]
  },
  {
   "cell_type": "markdown",
   "metadata": {},
   "source": [
    "This function is can be found at `smoltorch.util.operations.assert_tensor_shape`. Although it's only meant to be used internally."
   ]
  }
 ],
 "metadata": {
  "kernelspec": {
   "display_name": ".env",
   "language": "python",
   "name": "python3"
  },
  "language_info": {
   "codemirror_mode": {
    "name": "ipython",
    "version": 3
   },
   "file_extension": ".py",
   "mimetype": "text/x-python",
   "name": "python",
   "nbconvert_exporter": "python",
   "pygments_lexer": "ipython3",
   "version": "3.11.5"
  }
 },
 "nbformat": 4,
 "nbformat_minor": 2
}
